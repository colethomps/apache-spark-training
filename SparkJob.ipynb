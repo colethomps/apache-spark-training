{
 "cells": [
  {
   "cell_type": "code",
   "execution_count": 1,
   "id": "22b842be-6a82-4127-b937-ead4103a92e8",
   "metadata": {},
   "outputs": [
    {
     "data": {
      "text/plain": [
       "Intitializing Scala interpreter ..."
      ]
     },
     "metadata": {},
     "output_type": "display_data"
    },
    {
     "data": {
      "text/plain": [
       "Spark Web UI available at http://ac902101fe0e:4045\n",
       "SparkContext available as 'sc' (version = 3.4.1, master = local[*], app id = local-1696193087596)\n",
       "SparkSession available as 'spark'\n"
      ]
     },
     "metadata": {},
     "output_type": "display_data"
    },
    {
     "data": {
      "text/plain": [
       "import org.apache.spark.sql.functions.{broadcast, split, lit, col}\n",
       "import org.apache.spark.sql.SparkSession\n"
      ]
     },
     "execution_count": 1,
     "metadata": {},
     "output_type": "execute_result"
    }
   ],
   "source": [
    "import org.apache.spark.sql.functions.{broadcast, split, lit, col}\n",
    "import org.apache.spark.sql.SparkSession"
   ]
  },
  {
   "cell_type": "code",
   "execution_count": 2,
   "id": "655577c3-d72c-407b-8075-ed64749d3b72",
   "metadata": {},
   "outputs": [
    {
     "data": {
      "text/plain": [
       "sparkSession: org.apache.spark.sql.SparkSession = org.apache.spark.sql.SparkSession@3b4510dd\n"
      ]
     },
     "execution_count": 2,
     "metadata": {},
     "output_type": "execute_result"
    }
   ],
   "source": [
    "// Starting the new Spark session\n",
    "val sparkSession = SparkSession.builder.appName(\"H6SparkSession\").getOrCreate()"
   ]
  },
  {
   "cell_type": "code",
   "execution_count": 3,
   "id": "a84a9c20-d1c7-4d22-852b-65bbfd85ddb6",
   "metadata": {},
   "outputs": [],
   "source": [
    "sparkSession.conf.set(\"spark.sql.autoBroadcastJoinThreshold\", \"-1\")"
   ]
  },
  {
   "cell_type": "code",
   "execution_count": 14,
   "id": "dd771a79-34f4-46bc-890a-a222be59020b",
   "metadata": {},
   "outputs": [
    {
     "data": {
      "text/plain": [
       "matchDetails: org.apache.spark.sql.DataFrame = [match_id: string, player_gamertag: string ... 34 more fields]\n",
       "matches: org.apache.spark.sql.DataFrame = [match_id: string, mapid: string ... 8 more fields]\n",
       "medalsMatchesPlayers: org.apache.spark.sql.DataFrame = [match_id: string, player_gamertag: string ... 2 more fields]\n",
       "medals: org.apache.spark.sql.DataFrame = [medal_id: bigint, sprite_uri: string ... 10 more fields]\n",
       "maps: org.apache.spark.sql.DataFrame = [mapid: string, name: string ... 1 more field]\n"
      ]
     },
     "execution_count": 14,
     "metadata": {},
     "output_type": "execute_result"
    }
   ],
   "source": [
    "// Match Details\n",
    "val matchDetails = sparkSession.read\n",
    "    .option(\"header\", \"true\")\n",
    "    .option(\"inferSchema\", \"true\")\n",
    "    .csv(\"/home/iceberg/data/match_details.csv\")\n",
    "\n",
    "// Matches\n",
    "val matches = sparkSession.read\n",
    "    .option(\"header\", \"true\")\n",
    "    .option(\"inferSchema\", \"true\")\n",
    "    .csv(\"/home/iceberg/data/matches.csv\")\n",
    "\n",
    "// Medals Matches Players\n",
    "val medalsMatchesPlayers = sparkSession.read\n",
    "    .option(\"header\", \"true\")\n",
    "    .option(\"inferSchema\", \"true\")\n",
    "    .csv(\"/home/iceberg/data/medals_matches_players.csv\")\n",
    "\n",
    "// Medals\n",
    "val medals = sparkSession.read\n",
    "    .option(\"header\", \"true\")\n",
    "    .option(\"inferSchema\", \"true\")\n",
    "    .csv(\"/home/iceberg/data/medals.csv\")\n",
    "\n",
    "// Maps\n",
    "val maps = sparkSession.read\n",
    "    .option(\"header\", \"true\")\n",
    "    .option(\"inferSchema\", \"true\")\n",
    "    .csv(\"/home/iceberg/data/maps.csv\")"
   ]
  },
  {
   "cell_type": "code",
   "execution_count": 15,
   "id": "1af92828-2b89-45b0-8503-356c215c7875",
   "metadata": {},
   "outputs": [
    {
     "data": {
      "text/plain": [
       "matchesExpanded: org.apache.spark.sql.DataFrame = [match_id: string, is_team_game: boolean ... 10 more fields]\n",
       "medalsMatchesPlayersExpanded: org.apache.spark.sql.DataFrame = [match_id: string, player_gamertag: string ... 13 more fields]\n"
      ]
     },
     "execution_count": 15,
     "metadata": {},
     "output_type": "execute_result"
    }
   ],
   "source": [
    "// Medals dataset\n",
    "val matchesExpanded = matches.join(\n",
    "    broadcast(maps), Seq(\"mapid\"), \"left\")\n",
    "    .select(\n",
    "        $\"match_id\",\n",
    "        $\"is_team_game\",\n",
    "        $\"playlist_id\",\n",
    "        $\"game_variant_id\",\n",
    "        $\"is_match_over\",\n",
    "        $\"completion_date\",\n",
    "        $\"match_duration\",\n",
    "        $\"game_mode\",\n",
    "        $\"map_variant_id\",\n",
    "        $\"mapid\",\n",
    "        $\"name\" as \"map_name\",\n",
    "        $\"description\" as \"map_description\",\n",
    "    )\n",
    "// Maps dataset\n",
    "val medalsMatchesPlayersExpanded = medalsMatchesPlayers.join(\n",
    "    broadcast(medals), Seq(\"medal_id\"), \"left\")\n",
    "    .select(\n",
    "        $\"match_id\",\n",
    "        $\"player_gamertag\",\n",
    "        $\"count\",\n",
    "        $\"medal_id\",\n",
    "        $\"sprite_uri\",\n",
    "        $\"sprite_left\",\n",
    "        $\"sprite_top\",\n",
    "        $\"sprite_sheet_width\",\n",
    "        $\"sprite_sheet_height\",\n",
    "        $\"sprite_width\",\n",
    "        $\"sprite_height\",\n",
    "        $\"classification\",\n",
    "        $\"description\" as \"medal_description\",\n",
    "        $\"name\" as \"medal_name\",\n",
    "        $\"difficulty\",\n",
    "    )"
   ]
  },
  {
   "cell_type": "code",
   "execution_count": 17,
   "id": "622cec63-56fa-4828-8dfb-a4df4437bb99",
   "metadata": {},
   "outputs": [
    {
     "data": {
      "text/plain": [
       "matchesDetailsBuckets: String =\n",
       "\"\n",
       "CREATE TABLE IF NOT EXISTS bootcamp.match_details_in_buckets (\n",
       "        match_id STRING\n",
       "    ,   player_gamertag STRING\n",
       "    ,   previous_spartan_rank INTEGER\n",
       "    ,   spartan_rank INTEGER\n",
       "    ,   previous_total_xp INTEGER\n",
       "    ,   total_xp INTEGER\n",
       "    ,   previous_csr_tier INTEGER\n",
       "    ,   previous_csr_designation INTEGER\n",
       "    ,   previous_csr INTEGER\n",
       "    ,   previous_csr_percent_to_next_tier INTEGER\n",
       "    ,   previous_csr_rank INTEGER\n",
       "    ,   current_csr_tier INTEGER\n",
       "    ,   current_csr_designation INTEGER\n",
       "    ,   current_csr INTEGER\n",
       "    ,   current_csr_percent_to_next_tier INTEGER\n",
       "    ,   current_csr_rank INTEGER\n",
       "    ,   player_rank_on_team INTEGER\n",
       "    ,   player_finished BOOLEAN\n",
       "    ,   player_average_life STRING\n",
       "    ,   player_total_kills INTEGER\n",
       "    ,   pl...\n"
      ]
     },
     "execution_count": 17,
     "metadata": {},
     "output_type": "execute_result"
    }
   ],
   "source": [
    "// Dropping table if necessary\n",
    "spark.sql(\"DROP TABLE IF EXISTS bootcamp.match_details_in_buckets;\")\n",
    "\n",
    "// Defining the table for 'match_details'\n",
    "val matchesDetailsBuckets = \"\"\"\n",
    "CREATE TABLE IF NOT EXISTS bootcamp.match_details_in_buckets (\n",
    "        match_id STRING\n",
    "    ,   player_gamertag STRING\n",
    "    ,   previous_spartan_rank INTEGER\n",
    "    ,   spartan_rank INTEGER\n",
    "    ,   previous_total_xp INTEGER\n",
    "    ,   total_xp INTEGER\n",
    "    ,   previous_csr_tier INTEGER\n",
    "    ,   previous_csr_designation INTEGER\n",
    "    ,   previous_csr INTEGER\n",
    "    ,   previous_csr_percent_to_next_tier INTEGER\n",
    "    ,   previous_csr_rank INTEGER\n",
    "    ,   current_csr_tier INTEGER\n",
    "    ,   current_csr_designation INTEGER\n",
    "    ,   current_csr INTEGER\n",
    "    ,   current_csr_percent_to_next_tier INTEGER\n",
    "    ,   current_csr_rank INTEGER\n",
    "    ,   player_rank_on_team INTEGER\n",
    "    ,   player_finished BOOLEAN\n",
    "    ,   player_average_life STRING\n",
    "    ,   player_total_kills INTEGER\n",
    "    ,   player_total_headshots INTEGER\n",
    "    ,   player_total_weapon_damage DOUBLE\n",
    "    ,   player_total_shots_landed INTEGER\n",
    "    ,   player_total_melee_kills INTEGER\n",
    "    ,   player_total_melee_damage DOUBLE\n",
    "    ,   player_total_assassinations INTEGER\n",
    "    ,   player_total_ground_pound_kills INTEGER\n",
    "    ,   player_total_shoulder_bash_kills INTEGER\n",
    "    ,   player_total_grenade_damage DOUBLE\n",
    "    ,   player_total_power_weapon_damage DOUBLE\n",
    "    ,   player_total_power_weapon_grabs INTEGER\n",
    "    ,   player_total_deaths INTEGER\n",
    "    ,   player_total_assists INTEGER\n",
    "    ,   player_total_grenade_kills INTEGER\n",
    "    ,   did_win INTEGER\n",
    "    ,   team_id INTEGER\n",
    ")\n",
    "USING iceberg\n",
    "PARTITIONED BY (bucket(16, match_id));\n",
    "\"\"\"\n",
    "\n",
    "// Running SQL command\n",
    "spark.sql(matchesDetailsBuckets)\n",
    "\n",
    "// Saving results to table\n",
    "matchDetails\n",
    "    .write\n",
    "    .mode(\"append\")\n",
    "    .bucketBy(16, \"match_id\")\n",
    "    .saveAsTable(\"bootcamp.match_details_in_buckets\")"
   ]
  },
  {
   "cell_type": "code",
   "execution_count": 18,
   "id": "286065dc-7dac-4d74-95b1-50f3bea3d8b9",
   "metadata": {},
   "outputs": [
    {
     "data": {
      "text/plain": [
       "matchesExpandedBuckets: String =\n",
       "\"\n",
       "CREATE TABLE IF NOT EXISTS bootcamp.matches_expanded_in_buckets (\n",
       "        match_id STRING\n",
       "    ,   is_team_game BOOLEAN\n",
       "    ,   playlist_id STRING\n",
       "    ,   game_variant_id STRING\n",
       "    ,   is_match_over BOOLEAN\n",
       "    ,   completion_date TIMESTAMP\n",
       "    ,   match_duration STRING\n",
       "    ,   game_mode STRING\n",
       "    ,   map_variant_id STRING\n",
       "    ,   mapid STRING\n",
       "    ,   map_name STRING\n",
       "    ,   map_description STRING\n",
       ")\n",
       "USING iceberg\n",
       "PARTITIONED BY (bucket(16, match_id));\n",
       "\"\n"
      ]
     },
     "execution_count": 18,
     "metadata": {},
     "output_type": "execute_result"
    }
   ],
   "source": [
    "// Dropping table if necessary\n",
    "spark.sql(\"DROP TABLE IF EXISTS bootcamp.matches_expanded_in_buckets;\")\n",
    "\n",
    "// Defining the table for 'match_details'\n",
    "val matchesExpandedBuckets = \"\"\"\n",
    "CREATE TABLE IF NOT EXISTS bootcamp.matches_expanded_in_buckets (\n",
    "        match_id STRING\n",
    "    ,   is_team_game BOOLEAN\n",
    "    ,   playlist_id STRING\n",
    "    ,   game_variant_id STRING\n",
    "    ,   is_match_over BOOLEAN\n",
    "    ,   completion_date TIMESTAMP\n",
    "    ,   match_duration STRING\n",
    "    ,   game_mode STRING\n",
    "    ,   map_variant_id STRING\n",
    "    ,   mapid STRING\n",
    "    ,   map_name STRING\n",
    "    ,   map_description STRING\n",
    ")\n",
    "USING iceberg\n",
    "PARTITIONED BY (bucket(16, match_id));\n",
    "\"\"\"\n",
    "\n",
    "// Running SQL command\n",
    "spark.sql(matchesExpandedBuckets)\n",
    "\n",
    "// Saving results to table\n",
    "matchesExpanded\n",
    "    .write\n",
    "    .mode(\"append\")\n",
    "    .bucketBy(16, \"match_id\")\n",
    "    .saveAsTable(\"bootcamp.matches_expanded_in_buckets\")"
   ]
  },
  {
   "cell_type": "code",
   "execution_count": 19,
   "id": "6d13aaae-2a04-4a50-b25f-f1121852ef50",
   "metadata": {},
   "outputs": [
    {
     "data": {
      "text/plain": [
       "medalMatchesPlayersBuckets: String =\n",
       "\"\n",
       "CREATE TABLE IF NOT EXISTS bootcamp.medal_matches_players_expanded_in_buckets (\n",
       "        match_id STRING\n",
       "    ,   player_gamertag STRING\n",
       "    ,   count INTEGER\n",
       "    ,   medal_id LONG\n",
       "    ,   sprite_uri STRING\n",
       "    ,   sprite_left INTEGER\n",
       "    ,   sprite_top INTEGER\n",
       "    ,   sprite_sheet_width INTEGER\n",
       "    ,   sprite_sheet_height INTEGER\n",
       "    ,   sprite_width INTEGER\n",
       "    ,   sprite_height INTEGER\n",
       "    ,   classification STRING\n",
       "    ,   medal_description STRING\n",
       "    ,   medal_name STRING\n",
       "    ,   difficulty INTEGER\n",
       ")\n",
       "USING iceberg\n",
       "PARTITIONED BY (bucket(16, match_id));\n",
       "\"\n"
      ]
     },
     "execution_count": 19,
     "metadata": {},
     "output_type": "execute_result"
    }
   ],
   "source": [
    "// Dropping table if necessary\n",
    "spark.sql(\"DROP TABLE IF EXISTS bootcamp.medal_matches_players_expanded_in_buckets;\")\n",
    "\n",
    "// Defining the table for 'match_details'\n",
    "val medalMatchesPlayersBuckets = \"\"\"\n",
    "CREATE TABLE IF NOT EXISTS bootcamp.medal_matches_players_expanded_in_buckets (\n",
    "        match_id STRING\n",
    "    ,   player_gamertag STRING\n",
    "    ,   count INTEGER\n",
    "    ,   medal_id LONG\n",
    "    ,   sprite_uri STRING\n",
    "    ,   sprite_left INTEGER\n",
    "    ,   sprite_top INTEGER\n",
    "    ,   sprite_sheet_width INTEGER\n",
    "    ,   sprite_sheet_height INTEGER\n",
    "    ,   sprite_width INTEGER\n",
    "    ,   sprite_height INTEGER\n",
    "    ,   classification STRING\n",
    "    ,   medal_description STRING\n",
    "    ,   medal_name STRING\n",
    "    ,   difficulty INTEGER\n",
    ")\n",
    "USING iceberg\n",
    "PARTITIONED BY (bucket(16, match_id));\n",
    "\"\"\"\n",
    "\n",
    "// Running SQL command\n",
    "spark.sql(medalMatchesPlayersBuckets)\n",
    "\n",
    "// Saving results to table\n",
    "medalsMatchesPlayersExpanded\n",
    "    .write\n",
    "    .mode(\"append\")\n",
    "    .bucketBy(16, \"match_id\")\n",
    "    .saveAsTable(\"bootcamp.medal_matches_players_expanded_in_buckets\")"
   ]
  },
  {
   "cell_type": "code",
   "execution_count": 20,
   "id": "b918ae2d-96f7-41a9-a1c9-a486fb0a7a98",
   "metadata": {},
   "outputs": [
    {
     "data": {
      "text/plain": [
       "matchDetailsBucketTable: org.apache.spark.sql.DataFrame = [match_id: string, player_gamertag: string ... 34 more fields]\n",
       "matchesExpanedBucketTable: org.apache.spark.sql.DataFrame = [match_id: string, is_team_game: boolean ... 10 more fields]\n",
       "medalMatchesPlayersExpandedBucketTable: org.apache.spark.sql.DataFrame = [match_id: string, player_gamertag: string ... 13 more fields]\n"
      ]
     },
     "execution_count": 20,
     "metadata": {},
     "output_type": "execute_result"
    }
   ],
   "source": [
    "val matchDetailsBucketTable = spark.table(\"bootcamp.match_details_in_buckets\")\n",
    "\n",
    "val matchesExpanedBucketTable = spark.table(\"bootcamp.matches_expanded_in_buckets\")\n",
    "\n",
    "val medalMatchesPlayersExpandedBucketTable = spark.table(\"bootcamp.medal_matches_players_expanded_in_buckets\")"
   ]
  },
  {
   "cell_type": "code",
   "execution_count": 21,
   "id": "8d709e9e-e515-4a34-af44-b1c5dd64eb1c",
   "metadata": {},
   "outputs": [
    {
     "data": {
      "text/plain": [
       "combinedDataset: org.apache.spark.sql.DataFrame = [match_id: string, is_team_game: boolean ... 59 more fields]\n"
      ]
     },
     "execution_count": 21,
     "metadata": {},
     "output_type": "execute_result"
    }
   ],
   "source": [
    "// Joining tables by 'match_id'\n",
    "val combinedDataset = matchesExpanedBucketTable\n",
    "        .join(matchDetailsBucketTable, Seq(\"match_id\"))\n",
    "        .join(medalMatchesPlayersExpandedBucketTable, Seq(\"match_id\"), \"left\")"
   ]
  },
  {
   "cell_type": "code",
   "execution_count": 22,
   "id": "39efae09-7096-4f52-b0a7-8e4b9fc721f9",
   "metadata": {},
   "outputs": [
    {
     "name": "stdout",
     "output_type": "stream",
     "text": [
      "+--------------------+--------------------+--------------------+--------+---------------+-----------------+-------------------------+\n",
      "|            match_id|         playlist_id|               mapid|map_name|player_gamertag|   classification|player_most_average_kills|\n",
      "+--------------------+--------------------+--------------------+--------+---------------+-----------------+-------------------------+\n",
      "|00169217-cca6-4b4...|2323b76a-db98-4e0...|cc040aa1-f206-11e...|  Fathom|  King Terror V|WeaponProficiency|                       14|\n",
      "|00169217-cca6-4b4...|2323b76a-db98-4e0...|cc040aa1-f206-11e...|  Fathom|  King Terror V|            Style|                       14|\n",
      "|00169217-cca6-4b4...|2323b76a-db98-4e0...|cc040aa1-f206-11e...|  Fathom|  King Terror V|        MultiKill|                       14|\n",
      "|00169217-cca6-4b4...|2323b76a-db98-4e0...|cc040aa1-f206-11e...|  Fathom|  King Terror V|     KillingSpree|                       14|\n",
      "|00169217-cca6-4b4...|2323b76a-db98-4e0...|cc040aa1-f206-11e...|  Fathom|      King Sope|WeaponProficiency|                       11|\n",
      "|00169217-cca6-4b4...|2323b76a-db98-4e0...|cc040aa1-f206-11e...|  Fathom|      King Sope|            Style|                       11|\n",
      "|00169217-cca6-4b4...|2323b76a-db98-4e0...|cc040aa1-f206-11e...|  Fathom|      King Sope|        MultiKill|                       11|\n",
      "|00169217-cca6-4b4...|2323b76a-db98-4e0...|cc040aa1-f206-11e...|  Fathom|      King Sope|     KillingSpree|                       11|\n",
      "|00169217-cca6-4b4...|2323b76a-db98-4e0...|cc040aa1-f206-11e...|  Fathom|       mcnaeric|WeaponProficiency|                       10|\n",
      "|00169217-cca6-4b4...|2323b76a-db98-4e0...|cc040aa1-f206-11e...|  Fathom|       mcnaeric|            Style|                       10|\n",
      "|00169217-cca6-4b4...|2323b76a-db98-4e0...|cc040aa1-f206-11e...|  Fathom|       mcnaeric|        MultiKill|                       10|\n",
      "|00169217-cca6-4b4...|2323b76a-db98-4e0...|cc040aa1-f206-11e...|  Fathom|       mcnaeric|     KillingSpree|                       10|\n",
      "|00169217-cca6-4b4...|2323b76a-db98-4e0...|cc040aa1-f206-11e...|  Fathom|    EXTREMENOVA|WeaponProficiency|                        8|\n",
      "|00169217-cca6-4b4...|2323b76a-db98-4e0...|cc040aa1-f206-11e...|  Fathom|    EXTREMENOVA|            Style|                        8|\n",
      "|00169217-cca6-4b4...|2323b76a-db98-4e0...|cc040aa1-f206-11e...|  Fathom|    EXTREMENOVA|        MultiKill|                        8|\n",
      "|00169217-cca6-4b4...|2323b76a-db98-4e0...|cc040aa1-f206-11e...|  Fathom|    EXTREMENOVA|     KillingSpree|                        8|\n",
      "|00169217-cca6-4b4...|2323b76a-db98-4e0...|cc040aa1-f206-11e...|  Fathom| Psych0ticCamel|WeaponProficiency|                        8|\n",
      "|00169217-cca6-4b4...|2323b76a-db98-4e0...|cc040aa1-f206-11e...|  Fathom| Psych0ticCamel|            Style|                        8|\n",
      "|00169217-cca6-4b4...|2323b76a-db98-4e0...|cc040aa1-f206-11e...|  Fathom| Psych0ticCamel|        MultiKill|                        8|\n",
      "|00169217-cca6-4b4...|2323b76a-db98-4e0...|cc040aa1-f206-11e...|  Fathom| Psych0ticCamel|     KillingSpree|                        8|\n",
      "+--------------------+--------------------+--------------------+--------+---------------+-----------------+-------------------------+\n",
      "only showing top 20 rows\n",
      "\n"
     ]
    },
    {
     "data": {
      "text/plain": [
       "aggregatedDatasetPlayers: org.apache.spark.sql.DataFrame = [match_id: string, playlist_id: string ... 5 more fields]\n"
      ]
     },
     "execution_count": 22,
     "metadata": {},
     "output_type": "execute_result"
    }
   ],
   "source": [
    "val aggregatedDatasetPlayers = combinedDataset\n",
    "        .groupBy(\n",
    "                \"match_id\"\n",
    "            ,   \"playlist_id\"\n",
    "            ,   \"mapid\"\n",
    "            ,   \"map_name\"\n",
    "            ,   \"demo.bootcamp.match_details_in_buckets.player_gamertag\"\n",
    "            ,   \"classification\"\n",
    "        )\n",
    "        .agg(max($\"player_total_kills\").as(\"player_most_average_kills\"))\n"
   ]
  },
  {
   "cell_type": "code",
   "execution_count": 23,
   "id": "0c58b59a-a214-4c8f-ae2b-16756c0c6b35",
   "metadata": {},
   "outputs": [
    {
     "name": "stdout",
     "output_type": "stream",
     "text": [
      "+---------------+--------------------+\n",
      "|player_gamertag|player_average_kills|\n",
      "+---------------+--------------------+\n",
      "|gimpinator14   |109.0               |\n",
      "+---------------+--------------------+\n",
      "\n"
     ]
    }
   ],
   "source": [
    "//Most kills per game\n",
    "aggregatedDatasetPlayers\n",
    "    .groupBy(\"player_gamertag\")\n",
    "    .agg(avg(\"player_most_average_kills\").as(\"player_average_kills\"))\n",
    "    .orderBy(col(\"player_average_kills\").desc)\n",
    "    .limit(1)\n",
    "    .select(\"player_gamertag\", \"player_average_kills\")\n",
    "    .show(false)"
   ]
  },
  {
   "cell_type": "code",
   "execution_count": 24,
   "id": "6cf14d46-9ad2-434e-8984-1db39dbf557e",
   "metadata": {},
   "outputs": [
    {
     "name": "stdout",
     "output_type": "stream",
     "text": [
      "+------------------------------------+\n",
      "|playlist_id                         |\n",
      "+------------------------------------+\n",
      "|f72e0ef0-7c4a-4307-af78-8e38dac3fdba|\n",
      "+------------------------------------+\n",
      "\n"
     ]
    }
   ],
   "source": [
    "//Playlist gets played the most\n",
    "aggregatedDatasetPlayers\n",
    "    .groupBy(\"playlist_id\")\n",
    "    .agg(count(\"playlist_id\").as(\"total_matches_played\"))\n",
    "    .orderBy(col(\"total_matches_played\").desc)\n",
    "    .limit(1)\n",
    "    .select(\"playlist_id\")\n",
    "    .show(false)"
   ]
  },
  {
   "cell_type": "code",
   "execution_count": 25,
   "id": "c56aa635-bc42-468c-a80f-8aae4b67a9a0",
   "metadata": {},
   "outputs": [
    {
     "name": "stdout",
     "output_type": "stream",
     "text": [
      "+--------------+------------------------------------+\n",
      "|map_name      |mapid                               |\n",
      "+--------------+------------------------------------+\n",
      "|Breakout Arena|c7edbf0f-f206-11e4-aa52-24be05e24f7e|\n",
      "+--------------+------------------------------------+\n",
      "\n"
     ]
    }
   ],
   "source": [
    "//Map gets played the most?\n",
    "aggregatedDatasetPlayers\n",
    "    .groupBy(\"mapid\", \"map_name\")\n",
    "    .agg(count(\"mapid\").as(\"total_played\"))\n",
    "    .orderBy(col(\"total_played\").desc)\n",
    "    .limit(1)\n",
    "    .select(\"map_name\", \"mapid\")\n",
    "    .show(false)"
   ]
  },
  {
   "cell_type": "code",
   "execution_count": 26,
   "id": "6c323631-f699-4a77-9aad-b2b08eee5854",
   "metadata": {},
   "outputs": [
    {
     "name": "stdout",
     "output_type": "stream",
     "text": [
      "+--------------+------------------------------------+\n",
      "|map_name      |mapid                               |\n",
      "+--------------+------------------------------------+\n",
      "|Breakout Arena|c7edbf0f-f206-11e4-aa52-24be05e24f7e|\n",
      "+--------------+------------------------------------+\n",
      "\n"
     ]
    }
   ],
   "source": [
    "//Which map do players get the most Killing Spree on?\n",
    "aggregatedDatasetPlayers\n",
    "    .filter(col(\"classification\") === \"KillingSpree\")\n",
    "    .groupBy(\"mapid\", \"map_name\")\n",
    "    .agg(count(\"mapid\").as(\"total_counts\"))\n",
    "    .orderBy(col(\"total_counts\").desc)\n",
    "    .limit(1)\n",
    "    .select(\"map_name\", \"mapid\")\n",
    "    .show(false)"
   ]
  },
  {
   "cell_type": "code",
   "execution_count": 34,
   "id": "d8869e22-3370-4c28-8cad-d33a006a041a",
   "metadata": {},
   "outputs": [
    {
     "data": {
      "text/plain": [
       "res22: Int = 9\n"
      ]
     },
     "execution_count": 34,
     "metadata": {},
     "output_type": "execute_result"
    }
   ],
   "source": [
    "//Get min number of partitions\n",
    "aggregatedDatasetPlayers.rdd.getNumPartitions"
   ]
  },
  {
   "cell_type": "code",
   "execution_count": 36,
   "id": "1298349c-fedd-4cef-852a-6922d388644a",
   "metadata": {},
   "outputs": [],
   "source": [
    "aggregatedDatasetPlayers\n",
    "    .write\n",
    "    .mode(\"overwrite\")\n",
    "    .saveAsTable(\"bootcamp.aggregatedDatasetUnsorted\")"
   ]
  },
  {
   "cell_type": "code",
   "execution_count": 37,
   "id": "26401f18-1128-4875-85d5-ad1348bf33fa",
   "metadata": {},
   "outputs": [
    {
     "data": {
      "text/plain": [
       "sortedByPlaylist: String =\n",
       "\"\n",
       "CREATE TABLE IF NOT EXISTS bootcamp.sorted_by_playlist_id (\n",
       "        match_id STRING\n",
       "    ,   playlist_id STRING\n",
       "    ,   mapid STRING\n",
       "    ,   map_name STRING\n",
       "    ,   player_gamertag STRING\n",
       "    ,   classification STRING\n",
       "    ,   player_most_average_kills INTEGER\n",
       ")\n",
       "USING iceberg\n",
       ";\n",
       "\"\n",
       "res25: org.apache.spark.sql.DataFrame = []\n"
      ]
     },
     "execution_count": 37,
     "metadata": {},
     "output_type": "execute_result"
    }
   ],
   "source": [
    "// Dropping table if necessary\n",
    "spark.sql(\"DROP TABLE IF EXISTS bootcamp.sorted_by_playlist_id;\")\n",
    "\n",
    "// Defining the table object\n",
    "val sortedByPlaylist = \"\"\"\n",
    "CREATE TABLE IF NOT EXISTS bootcamp.sorted_by_playlist_id (\n",
    "        match_id STRING\n",
    "    ,   playlist_id STRING\n",
    "    ,   mapid STRING\n",
    "    ,   map_name STRING\n",
    "    ,   player_gamertag STRING\n",
    "    ,   classification STRING\n",
    "    ,   player_most_average_kills INTEGER\n",
    ")\n",
    "USING iceberg\n",
    ";\n",
    "\"\"\"\n",
    "\n",
    "// Running SQL command\n",
    "spark.sql(sortedByPlaylist)"
   ]
  },
  {
   "cell_type": "code",
   "execution_count": 38,
   "id": "a1d55ba6-780b-4ff3-9f46-1c669e554f0d",
   "metadata": {},
   "outputs": [],
   "source": [
    "aggregatedDatasetPlayers\n",
    "    .sortWithinPartitions(\"playlist_id\")\n",
    "    .write\n",
    "    .mode(\"append\")\n",
    "    .saveAsTable(\"bootcamp.sorted_by_playlist_id\")"
   ]
  },
  {
   "cell_type": "code",
   "execution_count": 39,
   "id": "b433ba3e-70d2-4466-817b-bbaae5d1a1fd",
   "metadata": {},
   "outputs": [
    {
     "name": "stdout",
     "output_type": "stream",
     "text": [
      "+----------+---------------+----------+\n",
      "|total_size|number_of_files|no sorting|\n",
      "+----------+---------------+----------+\n",
      "|2555557   |9              |no sorting|\n",
      "|2478107   |9              |sorted    |\n",
      "+----------+---------------+----------+\n",
      "\n"
     ]
    }
   ],
   "source": [
    "spark.sql(\"\"\"\n",
    "SELECT\n",
    "        SUM(file_size_in_bytes) as total_size\n",
    "    ,   COUNT(1) AS number_of_files\n",
    "    ,   'no sorting'\n",
    "FROM bootcamp.aggregatedDatasetUnsorted.files\n",
    "UNION ALL\n",
    "SELECT\n",
    "        SUM(file_size_in_bytes) as total_size\n",
    "    ,   COUNT(1) AS number_of_files\n",
    "    ,   'sorted'\n",
    "FROM bootcamp.sorted_by_playlist_id.files\n",
    "\"\"\").show(false)"
   ]
  },
  {
   "cell_type": "code",
   "execution_count": null,
   "id": "d6cbb96b-99eb-4964-954a-c8fa6b48eb21",
   "metadata": {},
   "outputs": [],
   "source": []
  }
 ],
 "metadata": {
  "kernelspec": {
   "display_name": "spylon-kernel",
   "language": "scala",
   "name": "spylon-kernel"
  },
  "language_info": {
   "codemirror_mode": "text/x-scala",
   "file_extension": ".scala",
   "help_links": [
    {
     "text": "MetaKernel Magics",
     "url": "https://metakernel.readthedocs.io/en/latest/source/README.html"
    }
   ],
   "mimetype": "text/x-scala",
   "name": "scala",
   "pygments_lexer": "scala",
   "version": "0.4.1"
  }
 },
 "nbformat": 4,
 "nbformat_minor": 5
}
